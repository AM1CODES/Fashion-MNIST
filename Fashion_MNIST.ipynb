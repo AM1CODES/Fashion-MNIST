{
  "nbformat": 4,
  "nbformat_minor": 0,
  "metadata": {
    "colab": {
      "name": "Fashion_MNIST.ipynb",
      "provenance": []
    },
    "kernelspec": {
      "name": "python3",
      "display_name": "Python 3"
    }
  },
  "cells": [
    {
      "cell_type": "code",
      "metadata": {
        "id": "-CXSkr7zerfn"
      },
      "source": [
        "import pandas as pd\n",
        "import numpy as np\n",
        "import tensorflow as tf\n",
        "import matplotlib.pyplot as plt"
      ],
      "execution_count": 1,
      "outputs": []
    },
    {
      "cell_type": "code",
      "metadata": {
        "id": "hMot9cRxe0vP"
      },
      "source": [
        "mnist = tf.keras.datasets.fashion_mnist #using the fashion MNIST API to get our data"
      ],
      "execution_count": 2,
      "outputs": []
    },
    {
      "cell_type": "code",
      "metadata": {
        "id": "D_0xf7Qve-tZ"
      },
      "source": [
        "(training_images,training_labels),(testing_images,testing_labels) = mnist.load_data() #getting our training and testing images and labels"
      ],
      "execution_count": 3,
      "outputs": []
    },
    {
      "cell_type": "code",
      "metadata": {
        "id": "_X4sBEohfWeO",
        "outputId": "a3c47487-3848-43c8-ea26-e0e34ca83588",
        "colab": {
          "base_uri": "https://localhost:8080/",
          "height": 282
        }
      },
      "source": [
        "plt.imshow(training_images[1]) #taking a look at the images in our data set"
      ],
      "execution_count": 4,
      "outputs": [
        {
          "output_type": "execute_result",
          "data": {
            "text/plain": [
              "<matplotlib.image.AxesImage at 0x7f82392c27f0>"
            ]
          },
          "metadata": {
            "tags": []
          },
          "execution_count": 4
        },
        {
          "output_type": "display_data",
          "data": {
            "image/png": "[encoded data removed]",
            "text/plain": [
              "<Figure size 432x288 with 1 Axes>"
            ]
          },
          "metadata": {
            "tags": [],
            "needs_background": "light"
          }
        }
      ]
    },
    {
      "cell_type": "code",
      "metadata": {
        "id": "bTNT3vvsgcUN"
      },
      "source": [
        "training_images = training_images/255.0 #normalizing our values, all the values were between 0 and 255 previously so we are just making them between 0 and 1\n",
        "testing_images = testing_images/255.0"
      ],
      "execution_count": 5,
      "outputs": []
    },
    {
      "cell_type": "code",
      "metadata": {
        "id": "gDzq2Uwc-HQb",
        "outputId": "f35055a9-4c4d-41b4-af36-a571965676b2",
        "colab": {
          "base_uri": "https://localhost:8080/"
        }
      },
      "source": [
        "print(training_images.shape)\n",
        "print(testing_images.shape)"
      ],
      "execution_count": 6,
      "outputs": [
        {
          "output_type": "stream",
          "text": [
            "(60000, 28, 28)\n",
            "(10000, 28, 28)\n"
          ],
          "name": "stdout"
        }
      ]
    },
    {
      "cell_type": "code",
      "metadata": {
        "id": "0yrGFR_gyqoe"
      },
      "source": [
        "training_images = training_images.reshape(60000,28,28,1)\n",
        "testing_images = testing_images.reshape(10000,28,28,1)"
      ],
      "execution_count": 7,
      "outputs": []
    },
    {
      "cell_type": "code",
      "metadata": {
        "id": "HUTF4UOB-fmd",
        "outputId": "793ef9eb-5aec-4005-e3b5-4b2f673d217d",
        "colab": {
          "base_uri": "https://localhost:8080/"
        }
      },
      "source": [
        "print(training_images.shape)\n",
        "print(testing_images.shape)"
      ],
      "execution_count": 8,
      "outputs": [
        {
          "output_type": "stream",
          "text": [
            "(60000, 28, 28, 1)\n",
            "(10000, 28, 28, 1)\n"
          ],
          "name": "stdout"
        }
      ]
    },
    {
      "cell_type": "code",
      "metadata": {
        "id": "mSfAypevhHAO",
        "outputId": "e05dd2ef-efaf-4b60-a0d1-68ce1f2e4ba4",
        "colab": {
          "base_uri": "https://localhost:8080/"
        }
      },
      "source": [
        "model = tf.keras.Sequential()\n",
        "\n",
        "model.add(tf.keras.layers.Conv2D(filters=64, kernel_size=(3,3), padding='same', activation='relu', input_shape=(28,28,1))) \n",
        "model.add(tf.keras.layers.MaxPooling2D(pool_size=(2,2)))\n",
        "model.add(tf.keras.layers.Dropout(0.25))\n",
        "model.add(tf.keras.layers.Conv2D(filters=32, kernel_size=(3,3), padding='same', activation='relu'))\n",
        "model.add(tf.keras.layers.MaxPooling2D(pool_size=(2,2)))\n",
        "model.add(tf.keras.layers.Dropout(0.25))\n",
        "model.add(tf.keras.layers.Flatten())\n",
        "model.add(tf.keras.layers.Dense(128, activation='relu'))\n",
        "model.add(tf.keras.layers.Dropout(0.25))\n",
        "model.add(tf.keras.layers.Dense(10, activation='softmax'))\n",
        "\n",
        "\n",
        "model.summary()"
      ],
      "execution_count": 9,
      "outputs": [
        {
          "output_type": "stream",
          "text": [
            "Model: \"sequential\"\n",
            "_________________________________________________________________\n",
            "Layer (type)                 Output Shape              Param #   \n",
            "=================================================================\n",
            "conv2d (Conv2D)              (None, 28, 28, 64)        640       \n",
            "_________________________________________________________________\n",
            "max_pooling2d (MaxPooling2D) (None, 14, 14, 64)        0         \n",
            "_________________________________________________________________\n",
            "dropout (Dropout)            (None, 14, 14, 64)        0         \n",
            "_________________________________________________________________\n",
            "conv2d_1 (Conv2D)            (None, 14, 14, 32)        18464     \n",
            "_________________________________________________________________\n",
            "max_pooling2d_1 (MaxPooling2 (None, 7, 7, 32)          0         \n",
            "_________________________________________________________________\n",
            "dropout_1 (Dropout)          (None, 7, 7, 32)          0         \n",
            "_________________________________________________________________\n",
            "flatten (Flatten)            (None, 1568)              0         \n",
            "_________________________________________________________________\n",
            "dense (Dense)                (None, 128)               200832    \n",
            "_________________________________________________________________\n",
            "dropout_2 (Dropout)          (None, 128)               0         \n",
            "_________________________________________________________________\n",
            "dense_1 (Dense)              (None, 10)                1290      \n",
            "=================================================================\n",
            "Total params: 221,226\n",
            "Trainable params: 221,226\n",
            "Non-trainable params: 0\n",
            "_________________________________________________________________\n"
          ],
          "name": "stdout"
        }
      ]
    },
    {
      "cell_type": "code",
      "metadata": {
        "id": "a6ibgv3opJbH"
      },
      "source": [
        "model.compile(optimizer = tf.optimizers.Adam(),\n",
        "              loss = 'sparse_categorical_crossentropy',\n",
        "              metrics=['accuracy'])"
      ],
      "execution_count": 10,
      "outputs": []
    },
    {
      "cell_type": "code",
      "metadata": {
        "id": "_3r52IK0wesE",
        "outputId": "7a0ac6c4-3534-4746-e6de-27502e2ece21",
        "colab": {
          "base_uri": "https://localhost:8080/"
        }
      },
      "source": [
        "history = model.fit(training_images,training_labels,epochs=10,validation_data=(testing_images,testing_labels) )"
      ],
      "execution_count": 11,
      "outputs": [
        {
          "output_type": "stream",
          "text": [
            "Epoch 1/10\n",
            "1875/1875 [==============================] - 105s 56ms/step - loss: 0.4909 - accuracy: 0.8219 - val_loss: 0.3272 - val_accuracy: 0.8814\n",
            "Epoch 2/10\n",
            "1875/1875 [==============================] - 105s 56ms/step - loss: 0.3314 - accuracy: 0.8780 - val_loss: 0.2972 - val_accuracy: 0.8900\n",
            "Epoch 3/10\n",
            "1875/1875 [==============================] - 104s 56ms/step - loss: 0.2915 - accuracy: 0.8924 - val_loss: 0.2650 - val_accuracy: 0.9021\n",
            "Epoch 4/10\n",
            "1875/1875 [==============================] - 104s 56ms/step - loss: 0.2677 - accuracy: 0.9003 - val_loss: 0.2695 - val_accuracy: 0.9006\n",
            "Epoch 5/10\n",
            "1875/1875 [==============================] - 104s 56ms/step - loss: 0.2510 - accuracy: 0.9067 - val_loss: 0.2460 - val_accuracy: 0.9096\n",
            "Epoch 6/10\n",
            "1875/1875 [==============================] - 103s 55ms/step - loss: 0.2418 - accuracy: 0.9110 - val_loss: 0.2361 - val_accuracy: 0.9134\n",
            "Epoch 7/10\n",
            "1875/1875 [==============================] - 103s 55ms/step - loss: 0.2289 - accuracy: 0.9148 - val_loss: 0.2419 - val_accuracy: 0.9111\n",
            "Epoch 8/10\n",
            "1875/1875 [==============================] - 104s 56ms/step - loss: 0.2212 - accuracy: 0.9166 - val_loss: 0.2267 - val_accuracy: 0.9184\n",
            "Epoch 9/10\n",
            "1875/1875 [==============================] - 103s 55ms/step - loss: 0.2157 - accuracy: 0.9188 - val_loss: 0.2333 - val_accuracy: 0.9159\n",
            "Epoch 10/10\n",
            "1875/1875 [==============================] - 104s 55ms/step - loss: 0.2087 - accuracy: 0.9218 - val_loss: 0.2265 - val_accuracy: 0.9200\n"
          ],
          "name": "stdout"
        }
      ]
    },
    {
      "cell_type": "code",
      "metadata": {
        "id": "MPlMfRoi2Jl2",
        "outputId": "19bf0300-c219-4842-f077-d6ee1275000f",
        "colab": {
          "base_uri": "https://localhost:8080/",
          "height": 312
        }
      },
      "source": [
        "plt.plot(history.history['loss'])\n",
        "plt.plot(history.history['val_loss'])\n",
        "plt.legend(['loss', 'val_loss'])\n",
        "plt.title('Loss')\n",
        "plt.xlabel('epoch')"
      ],
      "execution_count": 12,
      "outputs": [
        {
          "output_type": "execute_result",
          "data": {
            "text/plain": [
              "Text(0.5, 0, 'epoch')"
            ]
          },
          "metadata": {
            "tags": []
          },
          "execution_count": 12
        },
        {
          "output_type": "display_data",
          "data": {
            "image/png": "[encoded data removed]",
            "text/plain": [
              "<Figure size 432x288 with 1 Axes>"
            ]
          },
          "metadata": {
            "tags": [],
            "needs_background": "light"
          }
        }
      ]
    },
    {
      "cell_type": "code",
      "metadata": {
        "id": "PdjL3kG79z0z",
        "outputId": "d0f9ae54-620e-470b-bce8-d84a99716893",
        "colab": {
          "base_uri": "https://localhost:8080/",
          "height": 312
        }
      },
      "source": [
        "plt.plot(history.history['accuracy'])\n",
        "plt.plot(history.history['val_accuracy'])\n",
        "plt.legend(['accuracy', 'val_accuracy'])\n",
        "plt.title('Accuracy')\n",
        "plt.xlabel('epoch')"
      ],
      "execution_count": 13,
      "outputs": [
        {
          "output_type": "execute_result",
          "data": {
            "text/plain": [
              "Text(0.5, 0, 'epoch')"
            ]
          },
          "metadata": {
            "tags": []
          },
          "execution_count": 13
        },
        {
          "output_type": "display_data",
          "data": {
            "image/png": "[encoded data removed]",
            "text/plain": [
              "<Figure size 432x288 with 1 Axes>"
            ]
          },
          "metadata": {
            "tags": [],
            "needs_background": "light"
          }
        }
      ]
    }
  ]
}